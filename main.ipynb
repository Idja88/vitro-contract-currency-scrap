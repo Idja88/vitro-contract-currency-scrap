{
 "cells": [
  {
   "cell_type": "code",
   "execution_count": 1,
   "metadata": {},
   "outputs": [],
   "source": [
    "import requests\n",
    "from bs4 import BeautifulSoup\n",
    "import pandas as pd"
   ]
  },
  {
   "cell_type": "markdown",
   "metadata": {},
   "source": [
    "Получаем данные таблицы"
   ]
  },
  {
   "cell_type": "code",
   "execution_count": 2,
   "metadata": {},
   "outputs": [],
   "source": [
    "url = 'https://nationalbank.kz/ru/exchangerates/ezhednevnye-oficialnye-rynochnye-kursy-valyut'\n",
    "response = requests.get(url)\n",
    "if response.status_code == 200:\n",
    "    soup = BeautifulSoup(response.text, 'html.parser')"
   ]
  },
  {
   "cell_type": "markdown",
   "metadata": {},
   "source": [
    "Находим нужные ячейки таблицы"
   ]
  },
  {
   "cell_type": "code",
   "execution_count": 4,
   "metadata": {},
   "outputs": [],
   "source": [
    "table = soup.find('table')\n",
    "rows = table.find_all('tr')\n",
    "\n",
    "currencies_rates = []\n",
    "currencies_code = []\n",
    "currencies_name = []\n",
    "currencies_quant = []\n",
    "        \n",
    "for row in rows:\n",
    "    input_tag = row.find('input', {'id': 'rates'})\n",
    "    if input_tag is not None:\n",
    "        rate_value = input_tag['value']\n",
    "    currencies_rates.append(rate_value)\n",
    "\n",
    "    table_data = row.find_all('td')\n",
    "    for td in table_data:\n",
    "        if 'text-left' in td.get('class', []):\n",
    "            currency_info = td.text.strip()\n",
    "            quantity = int(currency_info.split()[0])\n",
    "            currency_name = ' '.join(currency_info.split()[1:])\n",
    "            currencies_quant.append(quantity)\n",
    "            currencies_name.append(currency_name)\n",
    "        if 'KZT' in td.text:\n",
    "            currency_code = td.text.split('/')[0].strip()\n",
    "            currencies_code.append(currency_code)\n"
   ]
  },
  {
   "cell_type": "code",
   "execution_count": 6,
   "metadata": {},
   "outputs": [],
   "source": [
    "if len(currencies_code) == len(currencies_rates) == len(currencies_quant) == len(currencies_name):\n",
    "    data = {'Quantity': currencies_quant, 'CurrencyName': currencies_name, 'CurrencyCode': currencies_code, 'Rate': currencies_rates}\n",
    "df = pd.DataFrame(data)"
   ]
  },
  {
   "cell_type": "code",
   "execution_count": 7,
   "metadata": {},
   "outputs": [
    {
     "data": {
      "text/html": [
       "<div>\n",
       "<style scoped>\n",
       "    .dataframe tbody tr th:only-of-type {\n",
       "        vertical-align: middle;\n",
       "    }\n",
       "\n",
       "    .dataframe tbody tr th {\n",
       "        vertical-align: top;\n",
       "    }\n",
       "\n",
       "    .dataframe thead th {\n",
       "        text-align: right;\n",
       "    }\n",
       "</style>\n",
       "<table border=\"1\" class=\"dataframe\">\n",
       "  <thead>\n",
       "    <tr style=\"text-align: right;\">\n",
       "      <th></th>\n",
       "      <th>Quantity</th>\n",
       "      <th>CurrencyName</th>\n",
       "      <th>CurrencyCode</th>\n",
       "      <th>Rate</th>\n",
       "    </tr>\n",
       "  </thead>\n",
       "  <tbody>\n",
       "    <tr>\n",
       "      <th>0</th>\n",
       "      <td>1</td>\n",
       "      <td>АВСТРАЛИЙСКИЙ ДОЛЛАР</td>\n",
       "      <td>AUD</td>\n",
       "      <td>1</td>\n",
       "    </tr>\n",
       "    <tr>\n",
       "      <th>1</th>\n",
       "      <td>1</td>\n",
       "      <td>АЗЕРБАЙДЖАНСКИЙ МАНАТ</td>\n",
       "      <td>AZN</td>\n",
       "      <td>48</td>\n",
       "    </tr>\n",
       "    <tr>\n",
       "      <th>2</th>\n",
       "      <td>10</td>\n",
       "      <td>АРМЯНСКИЙ ДРАМ</td>\n",
       "      <td>AMD</td>\n",
       "      <td>51</td>\n",
       "    </tr>\n",
       "    <tr>\n",
       "      <th>3</th>\n",
       "      <td>1</td>\n",
       "      <td>БЕЛОРУССКИЙ РУБЛЬ</td>\n",
       "      <td>BYN</td>\n",
       "      <td>38</td>\n",
       "    </tr>\n",
       "    <tr>\n",
       "      <th>4</th>\n",
       "      <td>1</td>\n",
       "      <td>БРАЗИЛЬСКИЙ РЕАЛ</td>\n",
       "      <td>BRL</td>\n",
       "      <td>46</td>\n",
       "    </tr>\n",
       "  </tbody>\n",
       "</table>\n",
       "</div>"
      ],
      "text/plain": [
       "   Quantity           CurrencyName CurrencyCode Rate\n",
       "0         1   АВСТРАЛИЙСКИЙ ДОЛЛАР          AUD    1\n",
       "1         1  АЗЕРБАЙДЖАНСКИЙ МАНАТ          AZN   48\n",
       "2        10         АРМЯНСКИЙ ДРАМ          AMD   51\n",
       "3         1      БЕЛОРУССКИЙ РУБЛЬ          BYN   38\n",
       "4         1       БРАЗИЛЬСКИЙ РЕАЛ          BRL   46"
      ]
     },
     "execution_count": 7,
     "metadata": {},
     "output_type": "execute_result"
    }
   ],
   "source": [
    "df.head()"
   ]
  }
 ],
 "metadata": {
  "kernelspec": {
   "display_name": "Python 3",
   "language": "python",
   "name": "python3"
  },
  "language_info": {
   "codemirror_mode": {
    "name": "ipython",
    "version": 3
   },
   "file_extension": ".py",
   "mimetype": "text/x-python",
   "name": "python",
   "nbconvert_exporter": "python",
   "pygments_lexer": "ipython3",
   "version": "3.10.7"
  }
 },
 "nbformat": 4,
 "nbformat_minor": 2
}
